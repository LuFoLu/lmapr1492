{
 "cells": [
  {
   "cell_type": "markdown",
   "id": "875d178d",
   "metadata": {},
   "source": [
    "<font size=6  color=#003366> <b>LMAPR1492-Physique des matériaux </b> <br><br> \n",
    "<b>Tache n°6</b>"
   ]
  },
  {
   "cell_type": "markdown",
   "id": "623259cb",
   "metadata": {},
   "source": [
    "<div class=\"alert alert-danger\">\n",
    "<font size=4  color=#003366>  <b> Préparation</b>\n",
    "</div>"
   ]
  },
  {
   "cell_type": "markdown",
   "id": "50c02682",
   "metadata": {},
   "source": [
    "Le matériau analysé est le mp-31454 dont la formule générale est TaSbRu. "
   ]
  },
  {
   "cell_type": "code",
   "execution_count": 1,
   "id": "9c9f92ad",
   "metadata": {},
   "outputs": [],
   "source": [
    "from pymatgen.ext.matproj import MPRester\n",
    "from pymatgen.symmetry.analyzer import SpacegroupAnalyzer\n",
    "from jupyter_jsmol.pymatgen import quick_view\n",
    "import numpy as np"
   ]
  },
  {
   "cell_type": "code",
   "execution_count": 2,
   "id": "a28c2414",
   "metadata": {},
   "outputs": [],
   "source": [
    "#Clé API utilisée\n",
    "C = \"ch7bMwOoOiiVhWKKKhy\"\n",
    "\n",
    "# Obtention des informations du matériau\n",
    "with MPRester(C) as m:\n",
    "    structure = m.get_structure_by_material_id(\"mp-31454\")\n",
    "\n",
    "# Définition de l'analyseur pour la maille primitive\n",
    "SAP = SpacegroupAnalyzer(structure) \n",
    "    \n",
    "# Définition de la maille conventionnelle\n",
    "MC = SAP.get_conventional_standard_structure()\n",
    "  \n",
    "# Définition de l'analyseur pour la maille conventionelle\n",
    "SAC = SpacegroupAnalyzer(MC)"
   ]
  },
  {
   "cell_type": "markdown",
   "id": "7d73c57e",
   "metadata": {},
   "source": [
    "<div class=\"alert alert-danger\">\n",
    "<font size=4  color=#003366>  <b> Symétrie n°1</b>\n",
    "</div>"
   ]
  },
  {
   "cell_type": "markdown",
   "id": "747bab72",
   "metadata": {},
   "source": [
    "La première symétrie est une rotation d'ordre 2 autour de l'axe Z dans la maille conventionnelle. Elle est notée $(-x, -y, z)$.\n",
    "\n",
    "Si on applique cette symétrie sur l'atome de Rutile situé en $(\\frac{1}{4},\\frac{1}{4},\\frac{3}{4})$, il est envoyé en $(-\\frac{1}{4},-\\frac{1}{4},\\frac{3}{4})$."
   ]
  },
  {
   "cell_type": "code",
   "execution_count": 3,
   "id": "ea66e636",
   "metadata": {},
   "outputs": [
    {
     "name": "stdout",
     "output_type": "stream",
     "text": [
      "Matrice de rotation\n",
      "¨¨¨¨¨¨¨¨¨¨¨¨¨¨¨¨¨¨¨\n",
      "[[-1.  0.  0.]\n",
      " [ 0. -1.  0.]\n",
      " [ 0.  0.  1.]]\n",
      "\n",
      "Vecteur de translation\n",
      "¨¨¨¨¨¨¨¨¨¨¨¨¨¨¨¨¨¨¨¨¨¨\n",
      "[0. 0. 0.]\n"
     ]
    }
   ],
   "source": [
    "#Représentation matricielle de l'opération de symétrie \n",
    "\n",
    "S = SAC.get_symmetry_operations()[2]\n",
    "S_RM = S.rotation_matrix\n",
    "S_TV = S.translation_vector\n",
    "\n",
    "print(\"Matrice de rotation\")\n",
    "print(\"¨¨¨¨¨¨¨¨¨¨¨¨¨¨¨¨¨¨¨\")\n",
    "print(S_RM)\n",
    "print(\"\")\n",
    "print(\"Vecteur de translation\")\n",
    "print(\"¨¨¨¨¨¨¨¨¨¨¨¨¨¨¨¨¨¨¨¨¨¨\")\n",
    "print(S_TV)"
   ]
  },
  {
   "cell_type": "code",
   "execution_count": 8,
   "id": "eb8f4582",
   "metadata": {
    "scrolled": false
   },
   "outputs": [
    {
     "data": {
      "application/vnd.jupyter.widget-view+json": {
       "model_id": "f0025e3185d34392a7e0e145f469adab",
       "version_major": 2,
       "version_minor": 0
      },
      "text/plain": [
       "JsmolView(layout=Layout(align_self='stretch', height='400px'))"
      ]
     },
     "metadata": {},
     "output_type": "display_data"
    }
   ],
   "source": [
    "# Affichage de la symmétrie sur la maille conventionnelle \n",
    "QV= quick_view(MC)\n",
    "display(QV)\n",
    "QV.script('draw SYMOP \"-x,-y,z\" {1/4 1/4 3/4}')"
   ]
  },
  {
   "cell_type": "markdown",
   "id": "7cafd3df",
   "metadata": {},
   "source": [
    "<div class=\"alert alert-danger\">\n",
    "<font size=4  color=#003366>  <b> Symétrie n°2</b>\n",
    "</div>"
   ]
  },
  {
   "cell_type": "markdown",
   "id": "2ca5f40c",
   "metadata": {},
   "source": [
    "La deuxième symétrie est une réflexion par rapport au plan miroir noté $[\\bar1,1,0]$ dans la maille conventionnelle . Elle est notée $(y, x, z)$.\n",
    "\n",
    "Si on applique cette symétrie sur l'atome d'Antimoine situé en $(1,0,\\frac{1}{2})$, il est envoyé en $(0,1,\\frac{1}{2})$."
   ]
  },
  {
   "cell_type": "code",
   "execution_count": 5,
   "id": "99dd145e",
   "metadata": {},
   "outputs": [
    {
     "name": "stdout",
     "output_type": "stream",
     "text": [
      "Matrice de rotation\n",
      "¨¨¨¨¨¨¨¨¨¨¨¨¨¨¨¨¨¨¨\n",
      "[[0. 1. 0.]\n",
      " [1. 0. 0.]\n",
      " [0. 0. 1.]]\n",
      "\n",
      "Vecteur de translation\n",
      "¨¨¨¨¨¨¨¨¨¨¨¨¨¨¨¨¨¨¨¨¨¨\n",
      "[0. 0. 0.]\n"
     ]
    }
   ],
   "source": [
    "#Représentation matricielle de l'opération de symétrie \n",
    "\n",
    "S = SAC.get_symmetry_operations()[5]\n",
    "S_RM = S.rotation_matrix\n",
    "S_TV = S.translation_vector\n",
    "\n",
    "print(\"Matrice de rotation\")\n",
    "print(\"¨¨¨¨¨¨¨¨¨¨¨¨¨¨¨¨¨¨¨\")\n",
    "print(S_RM)\n",
    "print(\"\")\n",
    "print(\"Vecteur de translation\")\n",
    "print(\"¨¨¨¨¨¨¨¨¨¨¨¨¨¨¨¨¨¨¨¨¨¨\")\n",
    "print(S_TV)"
   ]
  },
  {
   "cell_type": "code",
   "execution_count": 14,
   "id": "bee6421a",
   "metadata": {
    "scrolled": true
   },
   "outputs": [
    {
     "data": {
      "application/vnd.jupyter.widget-view+json": {
       "model_id": "888699f7dc3a4dd4824da7a61bb1019b",
       "version_major": 2,
       "version_minor": 0
      },
      "text/plain": [
       "JsmolView(layout=Layout(align_self='stretch', height='400px'))"
      ]
     },
     "metadata": {},
     "output_type": "display_data"
    }
   ],
   "source": [
    "# Affichage de la symmétrie sur la maille conventionnelle \n",
    "QV= quick_view(MC)\n",
    "display(QV)\n",
    "QV.script('draw SYMOP \"y,x,z\" {atomno=11}')"
   ]
  },
  {
   "cell_type": "markdown",
   "id": "191d5b02",
   "metadata": {},
   "source": [
    "<div class=\"alert alert-danger\">\n",
    "<font size=4  color=#003366>  <b> Symétrie n°3</b>\n",
    "</div>"
   ]
  },
  {
   "cell_type": "markdown",
   "id": "c006494b",
   "metadata": {},
   "source": [
    "La deuxième symétrie est une translation dans la maille conventionnelle. Elle est notée $(x+\\frac{1}{2}, y+\\frac{1}{2}, z)$.\n",
    "\n",
    "Si on applique cette symétrie sur l'atome de Tantale situé en $(0,0,0)$, il est envoyé en $(\\frac{1}{2},\\frac{1}{2},0)$."
   ]
  },
  {
   "cell_type": "code",
   "execution_count": 15,
   "id": "452eb3a6",
   "metadata": {},
   "outputs": [
    {
     "name": "stdout",
     "output_type": "stream",
     "text": [
      "Matrice de rotation\n",
      "¨¨¨¨¨¨¨¨¨¨¨¨¨¨¨¨¨¨¨\n",
      "[[1. 0. 0.]\n",
      " [0. 1. 0.]\n",
      " [0. 0. 1.]]\n",
      "\n",
      "Vecteur de translation\n",
      "¨¨¨¨¨¨¨¨¨¨¨¨¨¨¨¨¨¨¨¨¨¨\n",
      "[0.5 0.5 0. ]\n"
     ]
    }
   ],
   "source": [
    "#Représentation matricielle de l'opération de symétrie \n",
    "\n",
    "S = SAC.get_symmetry_operations()[24]\n",
    "S_RM = S.rotation_matrix\n",
    "S_TV = S.translation_vector\n",
    "\n",
    "print(\"Matrice de rotation\")\n",
    "print(\"¨¨¨¨¨¨¨¨¨¨¨¨¨¨¨¨¨¨¨\")\n",
    "print(S_RM)\n",
    "print(\"\")\n",
    "print(\"Vecteur de translation\")\n",
    "print(\"¨¨¨¨¨¨¨¨¨¨¨¨¨¨¨¨¨¨¨¨¨¨\")\n",
    "print(S_TV)"
   ]
  },
  {
   "cell_type": "code",
   "execution_count": 16,
   "id": "813dc39f",
   "metadata": {
    "scrolled": true
   },
   "outputs": [
    {
     "data": {
      "application/vnd.jupyter.widget-view+json": {
       "model_id": "a4ad26d7b0e047c0b096421a01b95bc3",
       "version_major": 2,
       "version_minor": 0
      },
      "text/plain": [
       "JsmolView(layout=Layout(align_self='stretch', height='400px'))"
      ]
     },
     "metadata": {},
     "output_type": "display_data"
    }
   ],
   "source": [
    "# Affichage de la symmétrie sur la maille conventionnelle \n",
    "QV= quick_view(MC)\n",
    "display(QV)\n",
    "QV.script('draw SYMOP \"x+1/2,y+1/2,z\" {atomno=1}')"
   ]
  },
  {
   "cell_type": "code",
   "execution_count": null,
   "id": "e8455893",
   "metadata": {},
   "outputs": [],
   "source": []
  }
 ],
 "metadata": {
  "kernelspec": {
   "display_name": "Python 3",
   "language": "python",
   "name": "python3"
  },
  "language_info": {
   "codemirror_mode": {
    "name": "ipython",
    "version": 3
   },
   "file_extension": ".py",
   "mimetype": "text/x-python",
   "name": "python",
   "nbconvert_exporter": "python",
   "pygments_lexer": "ipython3",
   "version": "3.6.8"
  }
 },
 "nbformat": 4,
 "nbformat_minor": 5
}
