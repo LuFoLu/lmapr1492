{
 "cells": [
  {
   "cell_type": "markdown",
   "id": "875d178d",
   "metadata": {},
   "source": [
    "<font size=6  color=#003366> <b>LMAPR1492-Physique des matériaux </b> <br><br> \n",
    "<b>Tache n°5</b>"
   ]
  },
  {
   "cell_type": "markdown",
   "id": "8887b801",
   "metadata": {},
   "source": [
    "<div class=\"alert alert-danger\">\n",
    "<font size=4  color=#003366>  <b> Préparation</b>\n",
    "</div>"
   ]
  },
  {
   "cell_type": "code",
   "execution_count": 1,
   "id": "f22706d7",
   "metadata": {},
   "outputs": [],
   "source": [
    "from pymatgen.ext.matproj import MPRester\n",
    "from pymatgen.symmetry.analyzer import SpacegroupAnalyzer\n",
    "import numpy as np"
   ]
  },
  {
   "cell_type": "code",
   "execution_count": 2,
   "id": "2d84bdf1",
   "metadata": {},
   "outputs": [],
   "source": [
    "#Clé API utilisée\n",
    "C = \"ch7bMwOoOiiVhWKKKhy\"\n",
    "\n",
    "# Obtention des informations du matériau\n",
    "with MPRester(C) as m:\n",
    "    structure = m.get_structure_by_material_id(\"mp-31454\")\n",
    "    \n",
    "# Définition de l'analyseur\n",
    "SA = SpacegroupAnalyzer(structure)"
   ]
  },
  {
   "cell_type": "markdown",
   "id": "69f691e9",
   "metadata": {},
   "source": [
    "<div class=\"alert alert-danger\">\n",
    "<font size=4  color=#003366>  <b>Vecteurs de base des mailles du réseau direct </b>\n",
    "</div>"
   ]
  },
  {
   "cell_type": "code",
   "execution_count": 3,
   "id": "4f2696ad",
   "metadata": {
    "scrolled": false
   },
   "outputs": [
    {
     "name": "stdout",
     "output_type": "stream",
     "text": [
      "\n",
      "Vecteur du réseau direct\n",
      "¨¨¨¨¨¨¨¨¨¨¨¨¨¨¨¨¨¨¨¨¨¨¨¨\n",
      "a = ( 0.0 ,  3.09676 ,  3.09676 ) pour la maille primitive\n",
      "b = ( 3.09676 ,  0.0 ,  3.09676 )\n",
      "c = ( 3.09676 ,  3.09676 ,  0.0 )\n",
      "\n",
      "a = ( 6.19353 ,  0.0 ,  0.0 ) pour la maille conventionnelle\n",
      "b = ( 0.0 ,  6.19353 ,  0.0 )\n",
      "c = ( 0.0 ,  0.0 ,  6.19353 )\n",
      "\n"
     ]
    }
   ],
   "source": [
    "# Maille primitive\n",
    "\n",
    "Vmp = structure.lattice.matrix # Représentation matricielle des vecteurs du réseau direct en Angstroms.\n",
    "Vmp = np.around(Vmp, decimals=5)\n",
    "\n",
    "print(\"\")\n",
    "print(\"Vecteur du réseau direct\")\n",
    "print(\"¨¨¨¨¨¨¨¨¨¨¨¨¨¨¨¨¨¨¨¨¨¨¨¨\")\n",
    "print(\"a = (\", Vmp[0][0], \", \", Vmp[0][1], \", \",Vmp[0][2],\") pour la maille primitive\")\n",
    "print(\"b = (\", Vmp[1][0], \", \", Vmp[1][1], \", \",Vmp[1][2],\")\")\n",
    "print(\"c = (\", Vmp[2][0], \", \", Vmp[2][1], \", \",Vmp[2][2],\")\")\n",
    "print(\"\")\n",
    "\n",
    "\n",
    "# Maille conventionnelle \n",
    "\n",
    "Vmc = SA.get_conventional_standard_structure().lattice.matrix\n",
    "Vmc = np.around(Vmc, decimals=5)\n",
    "\n",
    "print(\"a = (\", Vmc[0][0], \", \", Vmc[0][1], \", \",Vmc[0][2],\") pour la maille conventionnelle\")\n",
    "print(\"b = (\", Vmc[1][0], \", \", Vmc[1][1], \", \",Vmc[1][2],\")\")\n",
    "print(\"c = (\", Vmc[2][0], \", \", Vmc[2][1], \", \",Vmc[2][2],\")\")\n",
    "print(\"\")"
   ]
  },
  {
   "cell_type": "markdown",
   "id": "11253193",
   "metadata": {},
   "source": [
    "<div class=\"alert alert-danger\">\n",
    "<font size=4  color=#003366>  <b>Vecteurs de base des mailles du réseau réciproque </b>\n",
    "</div>    "
   ]
  },
  {
   "cell_type": "code",
   "execution_count": 4,
   "id": "31e514a4",
   "metadata": {
    "scrolled": true
   },
   "outputs": [
    {
     "name": "stdout",
     "output_type": "stream",
     "text": [
      "\n",
      "Vecteur du réseau réciproque\n",
      "¨¨¨¨¨¨¨¨¨¨¨¨¨¨¨¨¨¨¨¨¨¨¨¨¨¨¨¨\n",
      "a = ( -1.01448 ,  1.01448 ,  1.01448 ) pour la maille primitive\n",
      "b = ( 1.01448 ,  -1.01448 ,  1.01448 )\n",
      "c = ( 1.01448 ,  1.01448 ,  -1.01448 )\n",
      "\n",
      "a = ( 1.01448 ,  -0.0 ,  0.0  ) pour la maille conventionnelle\n",
      "b = ( 0.0 ,  1.01448 ,  0.0   )\n",
      "c = ( -0.0 ,  -0.0 ,  1.01448 )\n",
      "\n"
     ]
    }
   ],
   "source": [
    "# Maille primitive\n",
    "\n",
    "Vmp = structure.lattice.reciprocal_lattice.matrix # Représentation matricielle des vecteurs du réseau direct en Angstroms.\n",
    "Vmp = np.around(Vmp, decimals=5)\n",
    "\n",
    "print(\"\")\n",
    "print(\"Vecteur du réseau réciproque\")\n",
    "print(\"¨¨¨¨¨¨¨¨¨¨¨¨¨¨¨¨¨¨¨¨¨¨¨¨¨¨¨¨\")\n",
    "print(\"a = (\", Vmp[0][0], \", \", Vmp[0][1], \", \",Vmp[0][2],\") pour la maille primitive\")\n",
    "print(\"b = (\", Vmp[1][0], \", \", Vmp[1][1], \", \",Vmp[1][2],\")\")\n",
    "print(\"c = (\", Vmp[2][0], \", \", Vmp[2][1], \", \",Vmp[2][2],\")\")\n",
    "print(\"\")\n",
    "\n",
    "\n",
    "# Maille conventionnelle \n",
    "\n",
    "Vmc = SA.get_conventional_standard_structure().lattice.reciprocal_lattice.matrix\n",
    "Vmc = np.around(Vmc, decimals=5)\n",
    "\n",
    "print(\"a = (\", Vmc[0][0], \", \", Vmc[0][1], \", \",Vmc[0][2],\" ) pour la maille conventionnelle\")\n",
    "print(\"b = (\", Vmc[1][0], \", \", Vmc[1][1], \", \",Vmc[1][2],\"  )\")\n",
    "print(\"c = (\", Vmc[2][0], \", \", Vmc[2][1], \", \",Vmc[2][2],\")\")\n",
    "print(\"\")"
   ]
  },
  {
   "cell_type": "markdown",
   "id": "41773169",
   "metadata": {},
   "source": [
    "<div class=\"alert alert-danger\">\n",
    "<font size=4  color=#003366>  <b>Type de maille </b>\n",
    "\n",
    "</div>"
   ]
  },
  {
   "cell_type": "code",
   "execution_count": 5,
   "id": "59f22d98",
   "metadata": {},
   "outputs": [
    {
     "name": "stdout",
     "output_type": "stream",
     "text": [
      "\n",
      "La maille conventionnelle du cristal mp-31454 est de type :  F (Faces centrées)\n",
      "\n"
     ]
    }
   ],
   "source": [
    "TdM = SA.get_space_group_symbol()[0]\n",
    "\n",
    "print(\"\")\n",
    "print(\"La maille conventionnelle du cristal mp-31454 est de type : \",TdM, \"(Faces centrées)\")\n",
    "print(\"\")"
   ]
  },
  {
   "cell_type": "markdown",
   "id": "d1405d66",
   "metadata": {},
   "source": [
    "<div class=\"alert alert-danger\">\n",
    "<font size=4  color=#003366>  <b>Système cristallin </b>\n",
    "</div>"
   ]
  },
  {
   "cell_type": "code",
   "execution_count": 6,
   "id": "3f5c7a86",
   "metadata": {
    "scrolled": true
   },
   "outputs": [
    {
     "name": "stdout",
     "output_type": "stream",
     "text": [
      "\n",
      "La système cristallin est un système de type :  cubic (cubique)\n",
      "\n"
     ]
    }
   ],
   "source": [
    "SC = SA.get_crystal_system()\n",
    "\n",
    "print(\"\")\n",
    "print(\"La système cristallin est un système de type : \", SC,\"(cubique)\")\n",
    "print(\"\")"
   ]
  },
  {
   "cell_type": "markdown",
   "id": "99f46b11",
   "metadata": {},
   "source": [
    "<div class=\"alert alert-danger\">\n",
    "<font size=4  color=#003366>  <b>Groupe ponctuel</b>\n",
    "</div>"
   ]
  },
  {
   "cell_type": "code",
   "execution_count": 7,
   "id": "8a64b5dc",
   "metadata": {},
   "outputs": [
    {
     "name": "stdout",
     "output_type": "stream",
     "text": [
      "\n",
      "Le groupe ponctuel du cristal m31454 est :  -43m\n",
      "\n"
     ]
    }
   ],
   "source": [
    "GP = SA.get_point_group_symbol()\n",
    "\n",
    "print(\"\")\n",
    "print(\"Le groupe ponctuel du cristal m31454 est : \",GP)\n",
    "print(\"\")"
   ]
  },
  {
   "cell_type": "code",
   "execution_count": null,
   "id": "14a728c7",
   "metadata": {},
   "outputs": [],
   "source": []
  }
 ],
 "metadata": {
  "kernelspec": {
   "display_name": "Python 3",
   "language": "python",
   "name": "python3"
  },
  "language_info": {
   "codemirror_mode": {
    "name": "ipython",
    "version": 3
   },
   "file_extension": ".py",
   "mimetype": "text/x-python",
   "name": "python",
   "nbconvert_exporter": "python",
   "pygments_lexer": "ipython3",
   "version": "3.6.8"
  }
 },
 "nbformat": 4,
 "nbformat_minor": 5
}
