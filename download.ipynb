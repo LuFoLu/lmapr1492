{
 "cells": [
  {
   "cell_type": "markdown",
   "id": "cd955af0",
   "metadata": {},
   "source": [
    "<font size=6  color=#003366> <b>LMAPR1492-Physique des matériaux </b> <br><br> \n",
    "<b>Tache n°4</b>"
   ]
  },
  {
   "cell_type": "code",
   "execution_count": 1,
   "id": "c4827aef",
   "metadata": {},
   "outputs": [],
   "source": [
    "from pymatgen.ext.matproj import MPRester\n",
    "from pymatgen.io.cif import CifWriter"
   ]
  },
  {
   "cell_type": "code",
   "execution_count": 2,
   "id": "ab0a133e",
   "metadata": {},
   "outputs": [],
   "source": [
    "#Clé API utilisée\n",
    "C = \"ch7bMwOoOiiVhWKKKhy\"\n",
    "\n",
    "# Obtention des informations du matériau\n",
    "with MPRester(C) as m:\n",
    "    structure = m.get_structure_by_material_id(\"mp-31454\")\n",
    "\n",
    "w = CifWriter(structure, symprec = True)\n",
    "w.write_file('mp-31454.cif')"
   ]
  },
  {
   "cell_type": "code",
   "execution_count": null,
   "id": "2f1edc48",
   "metadata": {},
   "outputs": [],
   "source": []
  }
 ],
 "metadata": {
  "kernelspec": {
   "display_name": "Python 3",
   "language": "python",
   "name": "python3"
  },
  "language_info": {
   "codemirror_mode": {
    "name": "ipython",
    "version": 3
   },
   "file_extension": ".py",
   "mimetype": "text/x-python",
   "name": "python",
   "nbconvert_exporter": "python",
   "pygments_lexer": "ipython3",
   "version": "3.6.8"
  }
 },
 "nbformat": 4,
 "nbformat_minor": 5
}
